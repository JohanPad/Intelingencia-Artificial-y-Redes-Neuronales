{
  "nbformat": 4,
  "nbformat_minor": 0,
  "metadata": {
    "colab": {
      "provenance": []
    },
    "kernelspec": {
      "name": "python3",
      "display_name": "Python 3"
    },
    "language_info": {
      "name": "python"
    }
  },
  "cells": [
    {
      "cell_type": "markdown",
      "source": [
        "# **Actividad 2 : Diseño de algoritmos en Python**\n",
        "\n",
        "Johan Ronaldo Padilla Castañeda\n",
        "2109556\n",
        "\n",
        "Inteligencia Artificial y Redes Neuronales - N1\n",
        "\n",
        "Grupo: 007\n",
        "\n",
        "---\n",
        "\n",
        "### Objetivo\n",
        "\n",
        "*Familiarizarse con el lenguaje de programación Python y recordar los conceptos de la lógica de programación en general. Así como conocer la interfaz y funcionamiento de Google Colab.*\n",
        "\n",
        "\n",
        "---\n",
        "\n"
      ],
      "metadata": {
        "id": "2ki-DqTwHfY-"
      }
    },
    {
      "cell_type": "markdown",
      "source": [
        "1. Desarrolla un algoritmo que le pida al usuario por su nombre y que lo salude con su nombre, excepto si se llama «Ana», «Juan» o «Pedro»."
      ],
      "metadata": {
        "id": "DY_IFlaMKGEg"
      }
    },
    {
      "cell_type": "markdown",
      "source": [],
      "metadata": {
        "id": "3ZkcF0L7U5Zq"
      }
    },
    {
      "cell_type": "code",
      "source": [
        "import datetime\n",
        "\n",
        "hora_actual = datetime.datetime.now(datetime.timezone(datetime.timedelta(hours=-6))).time()\n",
        "\n",
        "nombres_invalidos = [\"Pedro\", \"PEDRO\", 'pedro', 'Ana', 'ana', 'ANA', 'Juan', 'juan', 'JUAN']\n",
        "\n",
        "name = input(\"Por favor, ingresa tu nombre de pila: \")\n",
        "\n",
        "if name in nombres_invalidos:\n",
        "  print(\"\")\n",
        "elif name == \" \" or name == \"\":\n",
        "  print(\"Perdón, no obtuve tu nombre.\")\n",
        "else:\n",
        "  if hora_actual < datetime.time(hour = 11, minute = 59) and hora_actual > datetime.time(hour = 5, minute = 0):\n",
        "    print(\"¡Buenos días, \" + name + \"!\")\n",
        "  elif hora_actual < datetime.time(hour = 18, minute = 0) and hora_actual > datetime.time(hour = 12, minute = 0):\n",
        "    print(\"¡Buenas tardes, \" + name + \"!\")\n",
        "  else:\n",
        "    print(\"¡Buenas noches, \" + name + \"!\")"
      ],
      "metadata": {
        "colab": {
          "base_uri": "https://localhost:8080/"
        },
        "id": "RxLPtZ3bN3m7",
        "outputId": "3aa0f0e7-d879-49a0-98c9-a63f8609f287"
      },
      "execution_count": 8,
      "outputs": [
        {
          "output_type": "stream",
          "name": "stdout",
          "text": [
            "Por favor, ingresa tu nombre de pila: David\n",
            "¡Buenos días, David!\n"
          ]
        }
      ]
    },
    {
      "cell_type": "markdown",
      "source": [
        "2. Desarrolla un algoritmo que por medio de una función, le pida al usuario una lista de N elementos y como resultado invierta el sentido de la lista."
      ],
      "metadata": {
        "id": "9gsWh9xYMBzE"
      }
    },
    {
      "cell_type": "code",
      "source": [
        "import datetime\n",
        "hora_2 = datetime.datetime.now(datetime.timezone(datetime.timedelta(hours=-6))).time()\n",
        "\n",
        "if hora_2 < datetime.time(hour = 11, minute = 59, second =59) and hora_2 > datetime.time(hour = 5, minute = 0):\n",
        "    num1 = int(input(\"Buenos días, por favor, ingrese el tamaño de su lista: \"))\n",
        "elif hora_2 < datetime.time(hour = 18, minute = 0) and hora_2 > datetime.time(hour = 12, minute = 0):\n",
        "    num1 = int(input(\"Buenas tardes, por favor, ingrese el tamaño de su lista: \"))\n",
        "else:\n",
        "    num1 = int(input(\"Buenas noches, por favor, ingrese el tamaño de su lista: \"))\n",
        "\n",
        "elem1 = []\n",
        "x = 0\n",
        "\n",
        "while x < num1:\n",
        "  x += 1\n",
        "  a1 = input(\"Por favor, deme uno de sus elementos: \")\n",
        "  elem1.append(a1)\n",
        "\n",
        "elem1.reverse()\n",
        "print(elem1)"
      ],
      "metadata": {
        "colab": {
          "base_uri": "https://localhost:8080/"
        },
        "id": "y3swm0-j0rqb",
        "outputId": "a198c249-5afd-421c-e312-33f5cc3113bf"
      },
      "execution_count": 7,
      "outputs": [
        {
          "output_type": "stream",
          "name": "stdout",
          "text": [
            "Buenos días, por favor, ingrese el tamaño de su lista: 3\n",
            "Por favor, deme uno de sus elementos: jon\n",
            "Por favor, deme uno de sus elementos: ron\n",
            "Por favor, deme uno de sus elementos: pad\n",
            "['pad', 'ron', 'jon']\n"
          ]
        }
      ]
    },
    {
      "cell_type": "markdown",
      "source": [
        "3. Desarrolla un algoritmo que le pregunte al usuario cuántos números de la serie de Fibonacci quiere generar y que al final los imprima."
      ],
      "metadata": {
        "id": "kd9PaBVIMFBp"
      }
    },
    {
      "cell_type": "code",
      "source": [
        "print(\"¡Buen día! ✨\")\n",
        "numf = int(input(\"Por favor, ingrese la cantidad de números de la serie de Fibonacci que quiera obtener: \"))\n",
        "\n",
        "x, y = 0, 1\n",
        "\n",
        "print(\"Aquí tiene su resultado de\", numf, \"números de la serie de fibonacci:\")\n",
        "if numf == 1:\n",
        "  print(x)\n",
        "elif numf == 2:\n",
        "  print(x)\n",
        "  print(y)\n",
        "else:\n",
        "  print(x)\n",
        "  for i in range(numf-1):\n",
        "   x, y = y, x + y\n",
        "   print(x)"
      ],
      "metadata": {
        "colab": {
          "base_uri": "https://localhost:8080/"
        },
        "id": "EWFHaqBWb7Yl",
        "outputId": "b5126796-321f-4932-c29f-8178cf1eff44"
      },
      "execution_count": null,
      "outputs": [
        {
          "output_type": "stream",
          "name": "stdout",
          "text": [
            "¡Buen día! ✨\n",
            "Por favor, ingrese la cantidad de números de la serie de Fibonacci que quiera obtener: 15\n",
            "Aquí tiene su resultado de 15 números de la serie de fibonacci:\n",
            "0\n",
            "1\n",
            "1\n",
            "2\n",
            "3\n",
            "5\n",
            "8\n",
            "13\n",
            "21\n",
            "34\n",
            "55\n",
            "89\n",
            "144\n",
            "233\n",
            "377\n"
          ]
        }
      ]
    },
    {
      "cell_type": "markdown",
      "source": [
        "4. Juego de adivinar el número: Crea un programa que genere un número aleatorio entre 1 y 100, y luego le pida al usuario que adivine el número. El programa debe proporcionar pistas al usuario si el número es mayor o menor que el número objetivo, y seguir solicitando un nuevo intento hasta que el usuario adivine correctamente."
      ],
      "metadata": {
        "id": "WIZtRQqIMHzq"
      }
    },
    {
      "cell_type": "code",
      "source": [
        "import random\n",
        "\n",
        "print(\"¡Bienvenido al juego de adivinación de números! 🔮\")\n",
        "print(\"Instrucciones: \")\n",
        "print(\"1. La casa seleccionará un número al azar entre el 0 y el 100, el cuál, es tu misión adivinar.\")\n",
        "print(\"2. Deberás ingresar sólamente números, evita utilizar algún otro caracter.\")\n",
        "print(\"3. Al ingresar un número, este será «gratuito», a partir del segundo número ingresado se comenzarán a contar los intentos.\")\n",
        "print(\"4. ¡No te preocupes! La casa te dará pistas si el número correcto es menor o mayor al que has ingresado. 😉\")\n",
        "print(\"\\n\" + \"¿Listo?\" + \"\\n\" + \"¡Adelante!\" + \"\\n\")\n",
        "\n",
        "intentos = 0\n",
        "numr = random.randrange(0, 101, 1)\n",
        "\n",
        "if numr % 2 == 0:\n",
        "    numispar = True\n",
        "elif numr % 2 == 1:\n",
        "    numispar = False\n",
        "\n",
        "numing = int(input(\"Por favor, ingrese un número inicial: \"))\n",
        "\n",
        "while numing != numr:\n",
        "  intentos += 1\n",
        "  if numing > numr and intentos < 5:\n",
        "    print(\"El número que buscas es menor al que has ingresado.\")\n",
        "  elif numing < numr and intentos < 5:\n",
        "    print(\"El número a conseguir es mayor al que has ingresado.\")\n",
        "  elif numing > numr and numispar == True:\n",
        "    print(\"El número que buscas es menor al que has ingresado y es un número par.\")\n",
        "  elif numing > numr and numispar == False:\n",
        "    print(\"El número que buscas es menor al que has ingresado y es impar.\")\n",
        "  elif numing < numr and numispar == True:\n",
        "    print(\"El número a conseguir es mayor al que has ingresado y es un número par.\")\n",
        "  elif numing < numr and numispar == False:\n",
        "    print(\"El número a conseguir es mayor al que has ingresado, además es impar.\")\n",
        "  numing = int(input(\"Por favor, inténtalo de nuevo: \"))\n",
        "\n",
        "if numing == numr:\n",
        "  if intentos < 4:\n",
        "    print(\"🎉¡Felicidades, has adivinado el número correctamente muy rápido! Apuesto a que eres un mago digno de Hogwarts, ¡sigue así! 🎉\")\n",
        "  else:\n",
        "    print(\"¡Felicidades!, has logrado adivinar el número de forma correcta! Te ha tomado:\", intentos, \"intentos. No está mal :)\")"
      ],
      "metadata": {
        "colab": {
          "base_uri": "https://localhost:8080/"
        },
        "id": "olBHL81yhaAT",
        "outputId": "912587cf-565f-43c1-cbc1-661735bb1489"
      },
      "execution_count": null,
      "outputs": [
        {
          "output_type": "stream",
          "name": "stdout",
          "text": [
            "¡Bienvenido al juego de adivinación de números! 🔮\n",
            "Instrucciones: \n",
            "1. La casa seleccionará un número al azar entre el 0 y el 100, el cuál, es tu misión adivinar.\n",
            "2. Deberás ingresar sólamente números, evita utilizar algún otro caracter.\n",
            "3. Al ingresar un número, este será «gratuito», a partir del segundo número ingresado se comenzarán a contar los intentos.\n",
            "4. ¡No te preocupes! La casa te dará pistas si el número correcto es menor o mayor al que has ingresado. 😉\n",
            "\n",
            "¿Listo?\n",
            "¡Adelante!\n",
            "\n",
            "Por favor, ingrese un número inicial: 50\n",
            "El número que buscas es menor al que has ingresado.\n",
            "Por favor, inténtalo de nuevo: 20\n",
            "El número a conseguir es mayor al que has ingresado.\n",
            "Por favor, inténtalo de nuevo: 35\n",
            "🎉¡Felicidades, has adivinado el número correctamente muy rápido! Apuesto a que eres un mago digno de Hogwarts, ¡sigue así! 🎉\n"
          ]
        }
      ]
    },
    {
      "cell_type": "markdown",
      "source": [
        "5. Ejercicio de cálculo de números primos en un rango dado: Escribe un programa que solicite al usuario un rango de números y muestre todos los números primos dentro de ese rango."
      ],
      "metadata": {
        "id": "WyGeWFDuMKiJ"
      }
    },
    {
      "cell_type": "code",
      "source": [
        "print(\"¡Buen día!\" + \"\\n\" + \"Este programa tiene como finalidad mostrar los números primos dentro de un rango que de la forma más atenta se le pide.\" + \"\\n\")\n",
        "rang_min = int(input(\"Por favor, ingrese el valor mínimo del rango de números que quiera que se le muestre: \"))\n",
        "rang_max = int(input(\"Por favor, ingrese ahora el valor máximo del rango: \"))\n",
        "print(\"\\n\" + \"Aquí se muestran los números primos dentro del rango establecido:\")\n",
        "\n",
        "def es_primo(num):\n",
        "    if num < 2:\n",
        "        return False\n",
        "    for i in range(2, int(num**0.5) + 1):\n",
        "        if num % i == 0:\n",
        "            return False\n",
        "    return True\n",
        "\n",
        "for i in range(rang_min, rang_max + 1):\n",
        "    if es_primo(i):\n",
        "        print(i)"
      ],
      "metadata": {
        "colab": {
          "base_uri": "https://localhost:8080/"
        },
        "id": "PltToTRTJDsm",
        "outputId": "7b9a0a48-a3e3-4099-bd9c-624576114528"
      },
      "execution_count": 4,
      "outputs": [
        {
          "output_type": "stream",
          "name": "stdout",
          "text": [
            "¡Buen día!\n",
            "Este programa tiene como finalidad mostrar los números primos dentro de un rango que de la forma más atenta se le pide.\n",
            "\n",
            "Por favor, ingrese el valor mínimo del rango de números que quiera que se le muestre: 1\n",
            "Por favor, ingrese ahora el valor máximo del rango: 50\n",
            "\n",
            "Aquí se muestran los números primos dentro del rango establecido:\n",
            "2\n",
            "3\n",
            "5\n",
            "7\n",
            "11\n",
            "13\n",
            "17\n",
            "19\n",
            "23\n",
            "29\n",
            "31\n",
            "37\n",
            "41\n",
            "43\n",
            "47\n"
          ]
        }
      ]
    },
    {
      "cell_type": "markdown",
      "source": [
        "6. Ejercicio de implementación de una calculadora básica utilizando funciones: Escribe un programa que solicite al usuario dos números y realice operaciones básicas como suma, resta, multiplicación y división utilizando funciones separadas para cada operación."
      ],
      "metadata": {
        "id": "xUDfEN9TMMly"
      }
    },
    {
      "cell_type": "code",
      "source": [
        "add = [\"1\", \"suma\", \"sum\", \"adicion\", \"adición\", \"Suma\", \"Adición\", \"Adicion\", \"+\"]\n",
        "sust = [\"2\", \"resta\", \"res\", \"sustraccion\", \"sustracción\", \"Resta\", \"Sustraccion\", \"Sustracción\", \"-\"]\n",
        "mult = [\"3\", \"multiplicacion\", \"multiplicación\", \"mult\", \"Multiplicación\", \"Multiplicacion\", \"Mult\", \"*\"]\n",
        "divi = [\"4\", \"division\", \"división\", \"div\", \"razon\", \"razón\", \"División\", \"Division\", \"Div\", \"Razon\", \"Razón\", \"/\"]\n",
        "\n",
        "def sum(num1, num2):\n",
        "  num1 += num2\n",
        "  return num1\n",
        "\n",
        "def rest(num1, num2):\n",
        "  return num1 - num2\n",
        "\n",
        "def multp(num1, num2):\n",
        "  num1 *= num2\n",
        "  return num1\n",
        "\n",
        "def div(num1, num2):\n",
        "  if num2 != 0:\n",
        "    return num1 / num2\n",
        "  else:\n",
        "    return \"Error: No se puede dividir por cero\"\n",
        "\n",
        "def main():\n",
        "  print(\"Bienvenido a su calculadora de funciones básicas\")\n",
        "  print(\"1. Suma (+)\")\n",
        "  print(\"2. Resta (-)\")\n",
        "  print(\"3. Multiplicación (*)\")\n",
        "  print(\"4. División (/)\")\n",
        "  eleccion1 = input(\"Por favor, selecciona la función que se requiera utilizar: \")\n",
        "  print(\"\\n\")\n",
        "\n",
        "  if eleccion1 in add:\n",
        "    x_sum = int(input(\"Por favor, indique con números la cantidad de valores a sumar: \"))\n",
        "    num1 = 0\n",
        "    for i in range(x_sum):\n",
        "      num1 = sum(num1, float(input(\"Indique el valor que requiera sumar: \")))\n",
        "    print(\"Este es el resultado de tu suma: \", num1)\n",
        "  elif eleccion1 in sust:\n",
        "    num1 = float(input(\"Por favor, ingrese el minuendo de su resta: \"))\n",
        "    num2 = float(input(\"De la manera más atenta, ingrese el sustraendo de su resta: \"))\n",
        "    print(\"Aquí tiene el resultado de su resta: \", rest(num1, num2))\n",
        "  elif eleccion1 in mult:\n",
        "    x_mul = int(input(\"Por favor, indique con números la cantidad de valores que quiera multiplicar entre ellos: \"))\n",
        "    num1 = 1\n",
        "    for i in range(x_mul):\n",
        "      num1 = multp(num1, float(input(\"Indique el valor que quiera multiplicar: \")))\n",
        "    print(\"Este es el resultado de tu multiplicación: \", num1)\n",
        "  elif eleccion1 in divi:\n",
        "    num1 = float(input(\"Por favor, ingrese el dividendo de su razon: \"))\n",
        "    num2 = float(input(\"De la manera más atenta, ahora ingrese el divisor: \"))\n",
        "    print(\"Aquí tiene el resultado de su división: \", div(num1, num2))\n",
        "\n",
        "main()"
      ],
      "metadata": {
        "colab": {
          "base_uri": "https://localhost:8080/"
        },
        "id": "E4pEhjW-7y8Q",
        "outputId": "9ca38cde-7e43-4fd5-987f-1fb2e722a929"
      },
      "execution_count": 9,
      "outputs": [
        {
          "output_type": "stream",
          "name": "stdout",
          "text": [
            "Bienvenido a su calculadora de funciones básicas\n",
            "1. Suma (+)\n",
            "2. Resta (-)\n",
            "3. Multiplicación (*)\n",
            "4. División (/)\n",
            "Por favor, selecciona la función que se requiera utilizar: +\n",
            "\n",
            "\n",
            "Por favor, indique con números la cantidad de valores a sumar: 2\n",
            "Indique el valor que requiera sumar: 50\n",
            "Indique el valor que requiera sumar: 150\n",
            "Este es el resultado de tu suma:  200.0\n"
          ]
        }
      ]
    }
  ]
}